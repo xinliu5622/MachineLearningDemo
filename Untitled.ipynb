{
 "cells": [
  {
   "cell_type": "code",
   "execution_count": 35,
   "metadata": {
    "collapsed": false
   },
   "outputs": [
    {
     "name": "stdout",
     "output_type": "stream",
     "text": [
      "test\n",
      "Current Letter : C:/Users/mutabesham/Documents/GitHub/MacLearning/CVs\\75963 UK Cuno Duursma v8b combined.docx\n",
      "TTTTTTTTT\n",
      "C:/Users/mutabesham/Documents/GitHub/MacLearning/CVs\\75963 UK Cuno Duursma v8b combined.docx\n"
     ]
    },
    {
     "ename": "com_error",
     "evalue": "(-2147352567, 'Exception occurred.', (0, 'Microsoft Word', 'This file could not be found.\\r (C:\\\\//Users/mutabesham/Documents/GitHu...)', 'wdmain11.chm', 24654, -2146823114), None)",
     "output_type": "error",
     "traceback": [
      "\u001b[1;31m---------------------------------------------------------------------------\u001b[0m",
      "\u001b[1;31mcom_error\u001b[0m                                 Traceback (most recent call last)",
      "\u001b[1;32m<ipython-input-35-bc4cc7ff96ba>\u001b[0m in \u001b[0;36m<module>\u001b[1;34m()\u001b[0m\n\u001b[0;32m     76\u001b[0m             \u001b[0mprint\u001b[0m \u001b[1;33m(\u001b[0m\u001b[0mthis_path\u001b[0m\u001b[1;33m)\u001b[0m\u001b[1;33m\u001b[0m\u001b[0m\n\u001b[0;32m     77\u001b[0m             \u001b[1;31m#worddoc.Visible = 0\u001b[0m\u001b[1;33m\u001b[0m\u001b[1;33m\u001b[0m\u001b[0m\n\u001b[1;32m---> 78\u001b[1;33m             \u001b[0mworddoc\u001b[0m\u001b[1;33m=\u001b[0m\u001b[0mwordapp\u001b[0m\u001b[1;33m.\u001b[0m\u001b[0mDocuments\u001b[0m\u001b[1;33m.\u001b[0m\u001b[0mOpen\u001b[0m\u001b[1;33m(\u001b[0m\u001b[0mthis_path\u001b[0m\u001b[1;33m,\u001b[0m \u001b[1;32mFalse\u001b[0m\u001b[1;33m,\u001b[0m \u001b[1;32mFalse\u001b[0m\u001b[1;33m,\u001b[0m \u001b[1;32mFalse\u001b[0m\u001b[1;33m)\u001b[0m\u001b[1;33m\u001b[0m\u001b[0m\n\u001b[0m\u001b[0;32m     79\u001b[0m             \u001b[0mget_doc_properties\u001b[0m\u001b[1;33m(\u001b[0m\u001b[0mworddoc\u001b[0m\u001b[1;33m)\u001b[0m\u001b[1;33m\u001b[0m\u001b[0m\n\u001b[0;32m     80\u001b[0m             \u001b[0mtextdoc\u001b[0m\u001b[1;33m=\u001b[0m\u001b[0mworddoc\u001b[0m\u001b[1;33m.\u001b[0m\u001b[0mContent\u001b[0m\u001b[1;33m.\u001b[0m\u001b[0mText\u001b[0m\u001b[1;33m\u001b[0m\u001b[0m\n",
      "\u001b[1;32mC:\\Users\\mutabesham\\AppData\\Local\\Continuum\\Anaconda3\\lib\\site-packages\\win32com\\client\\dynamic.py\u001b[0m in \u001b[0;36mOpen\u001b[1;34m(self, FileName, ConfirmConversions, ReadOnly, AddToRecentFiles, PasswordDocument, PasswordTemplate, Revert, WritePasswordDocument, WritePasswordTemplate, Format, Encoding, Visible, OpenAndRepair, DocumentDirection, NoEncodingDialog, XMLTransform)\u001b[0m\n",
      "\u001b[1;31mcom_error\u001b[0m: (-2147352567, 'Exception occurred.', (0, 'Microsoft Word', 'This file could not be found.\\r (C:\\\\//Users/mutabesham/Documents/GitHu...)', 'wdmain11.chm', 24654, -2146823114), None)"
     ]
    }
   ],
   "source": [
    "# -*- coding: utf-8 -*-\n",
    "\"\"\"\n",
    "Created on Wed Mar 09 21:05:49 2016\n",
    "\n",
    "@author: cduursma\n",
    "\"\"\"\n",
    "# from http://mil-oss.org/resources/mil-oss-wg4-automating-microsoft-office-with-python.pdf \n",
    "import win32com.client, pythoncom\n",
    "import os\n",
    "#from extract_text import write_header, write_contents, write_path_names, get_files_processed, vectorize_document, files_processed\n",
    "print(\"test\")\n",
    "DOCUMENT_ROOT_PATH=\"C:/Users/mutabesham/Documents/GitHub/MacLearning/CVs\"\n",
    "\n",
    "pythoncom.CoInitializeEx(pythoncom.COINIT_APARTMENTTHREADED)\n",
    "\n",
    "\n",
    "\n",
    "\n",
    "# Run the above function and store its results in a variable.   \n",
    "full_file_paths = get_filepaths(DOCUMENT_ROOT_PATH)\n",
    "\n",
    "for letter in full_file_paths:     # First Example\n",
    "   print ('Current Letter :', letter)\n",
    "\n",
    "\n",
    "    \n",
    "        \n",
    "#wordapp.Visible = True\n",
    "# \"C:\\Users\\cduursma\\Documents\\Python Scripts\\doc2cluster\\testfile.docx\"\n",
    "#worddoc = wordapp.Documents.Open('C:\\Users\\cduursma\\Documents\\Hello.docx', False, False, False)\n",
    "\n",
    "\n",
    "extensions = ['.doc','.docx']\n",
    "\n",
    "for this_path in full_file_paths: \n",
    "    if this_path.endswith(('.doc','.docx')):\n",
    "        if not this_path.startswith(('~')):\n",
    "            print (\"TTTTTTTTT\")\n",
    "            print (this_path)\n",
    "            #worddoc.Visible = 0\n",
    "            worddoc=wordapp.Documents.Open(this_path, False, False, False)\n",
    "            get_doc_properties(worddoc)\n",
    "            textdoc=worddoc.Content.Text      \n",
    "            vectorize_document(textdoc)\n",
    "            files_processed.append(this_path)\n",
    "            worddoc.Close()\n",
    "            \n",
    "        \n",
    "        \n",
    "if len(get_files_processed()) > 0:\n",
    "        nr_keys=write_header()\n",
    "        write_contents(nr_keys)\n",
    "        write_path_names()\n",
    "  \n",
    "\n",
    "wordapp.Quit() # Close the Word Application\n"
   ]
  },
  {
   "cell_type": "code",
   "execution_count": 44,
   "metadata": {
    "collapsed": false
   },
   "outputs": [],
   "source": [
    "import win32com.client as w32c\n",
    "\n",
    "import win32com.client as win32\n",
    "word = win32.Dispatch(\"Word.Application\")\n",
    "word.Visible = 0\n",
    "word.Documents.Open(\"test1.docx\")\n",
    "doc = word.ActiveDocument"
   ]
  },
  {
   "cell_type": "code",
   "execution_count": 56,
   "metadata": {
    "collapsed": false
   },
   "outputs": [
    {
     "name": "stdout",
     "output_type": "stream",
     "text": [
      "test\n",
      "Current Letter : C:/Users/mutabesham/Documents/GitHub/MacLearning/CVs\\75963 UK Cuno Duursma v8b combined.docx\n",
      "TTTTTTTTT\n",
      "C:/Users/mutabesham/Documents/GitHub/MacLearning/CVs\\75963 UK Cuno Duursma v8b combined.docx\n"
     ]
    },
    {
     "ename": "com_error",
     "evalue": "(-2147352567, 'Exception occurred.', (0, 'Microsoft Word', 'This file could not be found.\\r (C:\\\\//Users/mutabesham/Documents/GitHu...)', 'wdmain11.chm', 24654, -2146823114), None)",
     "output_type": "error",
     "traceback": [
      "\u001b[1;31m---------------------------------------------------------------------------\u001b[0m",
      "\u001b[1;31mcom_error\u001b[0m                                 Traceback (most recent call last)",
      "\u001b[1;32m<ipython-input-56-4911cf269fa0>\u001b[0m in \u001b[0;36m<module>\u001b[1;34m()\u001b[0m\n\u001b[0;32m     71\u001b[0m             \u001b[0mprint\u001b[0m \u001b[1;33m(\u001b[0m\u001b[0mthis_path\u001b[0m\u001b[1;33m)\u001b[0m\u001b[1;33m\u001b[0m\u001b[0m\n\u001b[0;32m     72\u001b[0m             \u001b[1;31m#worddoc.Visible = 0\u001b[0m\u001b[1;33m\u001b[0m\u001b[1;33m\u001b[0m\u001b[0m\n\u001b[1;32m---> 73\u001b[1;33m             \u001b[0mworddoc\u001b[0m\u001b[1;33m=\u001b[0m\u001b[0mwordapp\u001b[0m\u001b[1;33m.\u001b[0m\u001b[0mDocuments\u001b[0m\u001b[1;33m.\u001b[0m\u001b[0mOpen\u001b[0m\u001b[1;33m(\u001b[0m\u001b[0mthis_path\u001b[0m\u001b[1;33m,\u001b[0m \u001b[1;32mFalse\u001b[0m\u001b[1;33m,\u001b[0m \u001b[1;32mFalse\u001b[0m\u001b[1;33m,\u001b[0m \u001b[1;32mFalse\u001b[0m\u001b[1;33m)\u001b[0m\u001b[1;33m\u001b[0m\u001b[0m\n\u001b[0m\u001b[0;32m     74\u001b[0m             \u001b[0mget_doc_properties\u001b[0m\u001b[1;33m(\u001b[0m\u001b[0mworddoc\u001b[0m\u001b[1;33m)\u001b[0m\u001b[1;33m\u001b[0m\u001b[0m\n\u001b[0;32m     75\u001b[0m             \u001b[0mtextdoc\u001b[0m\u001b[1;33m=\u001b[0m\u001b[0mworddoc\u001b[0m\u001b[1;33m.\u001b[0m\u001b[0mContent\u001b[0m\u001b[1;33m.\u001b[0m\u001b[0mText\u001b[0m\u001b[1;33m\u001b[0m\u001b[0m\n",
      "\u001b[1;32mC:\\Users\\mutabesham\\AppData\\Local\\Continuum\\Anaconda3\\lib\\site-packages\\win32com\\client\\dynamic.py\u001b[0m in \u001b[0;36mOpen\u001b[1;34m(self, FileName, ConfirmConversions, ReadOnly, AddToRecentFiles, PasswordDocument, PasswordTemplate, Revert, WritePasswordDocument, WritePasswordTemplate, Format, Encoding, Visible, OpenAndRepair, DocumentDirection, NoEncodingDialog, XMLTransform)\u001b[0m\n",
      "\u001b[1;31mcom_error\u001b[0m: (-2147352567, 'Exception occurred.', (0, 'Microsoft Word', 'This file could not be found.\\r (C:\\\\//Users/mutabesham/Documents/GitHu...)', 'wdmain11.chm', 24654, -2146823114), None)"
     ]
    }
   ],
   "source": [
    "# -*- coding: utf-8 -*-\n",
    "\"\"\"\n",
    "Created on Wed Mar 09 21:05:49 2016\n",
    "\n",
    "@author: cduursma\n",
    "\"\"\"\n",
    "# from http://mil-oss.org/resources/mil-oss-wg4-automating-microsoft-office-with-python.pdf \n",
    "import win32com.client, pythoncom\n",
    "import os\n",
    "#from extract_text import write_header, write_contents, write_path_names, get_files_processed, vectorize_document, files_processed\n",
    "print(\"test\")\n",
    "DOCUMENT_ROOT_PATH=\"C:/Users/mutabesham/Documents/GitHub/MacLearning/CVs\"\n",
    "\n",
    "pythoncom.CoInitializeEx(pythoncom.COINIT_APARTMENTTHREADED)\n",
    "\n",
    "wordapp = win32com.client.Dispatch(\"Word.Application\")\n",
    "\n",
    "def get_filepaths(directory):\n",
    "    \"\"\"\n",
    "    This function will generate the file names in a directory \n",
    "    tree by walking the tree either top-down or bottom-up. For each \n",
    "    directory in the tree rooted at directory top (including top itself), \n",
    "    it yields a 3-tuple (dirpath, dirnames, filenames).\n",
    "    \"\"\"\n",
    "    file_paths = []  # List which will store all of the full filepaths.\n",
    "\n",
    "    # Walk the tree.\n",
    "    for root, directories, files in os.walk(directory):\n",
    "        for filename in files:\n",
    "            # Join the two strings in order to form the full filepath.\n",
    "            filepath = os.path.join(root, filename)\n",
    "            file_paths.append(filepath)  # Add it to the list.\n",
    "\n",
    "    return file_paths  # Self-explanatory.\n",
    "\n",
    "# Run the above function and store its results in a variable.   \n",
    "full_file_paths = get_filepaths(DOCUMENT_ROOT_PATH)\n",
    "\n",
    "for letter in full_file_paths:     # First Example\n",
    "   print ('Current Letter :', letter)\n",
    "\n",
    "\n",
    "def get_doc_properties(worddoc):\n",
    "#    try:\n",
    "#        csp= worddoc.CustomDocumentProperties().value\n",
    "#        print('property is %s' % csp)\n",
    "#    except Exception as e:\n",
    "#        print ('\\n\\n', e)\n",
    "    try:\n",
    "        csp2= worddoc.BuiltInDocumentProperties(\"Last Author\").value\n",
    "        print('Last author: %s' % csp2)\n",
    "    except Exception as e:\n",
    "        print ('\\n\\n', e)\n",
    "    try:\n",
    "        csp2= worddoc.BuiltInDocumentProperties(\"Title\").value\n",
    "        print('Title: %s' % csp2)\n",
    "    except Exception as e:\n",
    "        print ('\\n\\n', e)\n",
    "    try:\n",
    "        csp2= worddoc.BuiltInDocumentProperties(\"Number of Words\").value\n",
    "        print('Number of words: %s' % csp2)\n",
    "    except Exception as e:\n",
    "        print ('\\n\\n', e)\n",
    "  \n",
    "extensions = ['.doc','.docx']\n",
    "\n",
    "for this_path in full_file_paths: \n",
    "    if this_path.endswith(('.doc','.docx')):\n",
    "        if not this_path.startswith(('~')):\n",
    "            print (\"TTTTTTTTT\")\n",
    "            print (this_path)\n",
    "            #worddoc.Visible = 0\n",
    "            worddoc=wordapp.Documents.Open(this_path, False, False, False)\n",
    "            get_doc_properties(worddoc)\n",
    "            textdoc=worddoc.Content.Text      \n",
    "            vectorize_document(textdoc)\n",
    "            files_processed.append(this_path)\n",
    "            worddoc.Close()\n",
    "            \n",
    "        \n",
    "        \n",
    "if len(get_files_processed()) > 0:\n",
    "        nr_keys=write_header()\n",
    "        write_contents(nr_keys)\n",
    "        write_path_names()\n",
    "  \n",
    "\n",
    "wordapp.Quit() # Close the Word Application\n",
    "\n"
   ]
  },
  {
   "cell_type": "code",
   "execution_count": 41,
   "metadata": {
    "collapsed": false
   },
   "outputs": [
    {
     "ename": "ImportError",
     "evalue": "No module named 'docx'",
     "output_type": "error",
     "traceback": [
      "\u001b[1;31m---------------------------------------------------------------------------\u001b[0m",
      "\u001b[1;31mImportError\u001b[0m                               Traceback (most recent call last)",
      "\u001b[1;32m<ipython-input-41-2fed56c273bc>\u001b[0m in \u001b[0;36m<module>\u001b[1;34m()\u001b[0m\n\u001b[1;32m----> 1\u001b[1;33m \u001b[1;32mimport\u001b[0m \u001b[0mdocx\u001b[0m\u001b[1;33m\u001b[0m\u001b[0m\n\u001b[0m\u001b[0;32m      2\u001b[0m \u001b[0mdoc\u001b[0m \u001b[1;33m=\u001b[0m \u001b[0mdocx\u001b[0m\u001b[1;33m.\u001b[0m\u001b[0mDocument\u001b[0m\u001b[1;33m(\u001b[0m\u001b[1;34m\"C:/Users/mutabesham/Documents/GitHub/MacLearning/CVs\\75963 UK Cuno Duursma v8b combined.docx\"\u001b[0m\u001b[1;33m)\u001b[0m\u001b[1;33m\u001b[0m\u001b[0m\n\u001b[0;32m      3\u001b[0m \u001b[1;32mfor\u001b[0m \u001b[0mpara\u001b[0m \u001b[1;32min\u001b[0m \u001b[0mdoc\u001b[0m\u001b[1;33m.\u001b[0m\u001b[0mparagraphs\u001b[0m\u001b[1;33m:\u001b[0m\u001b[1;33m\u001b[0m\u001b[0m\n\u001b[0;32m      4\u001b[0m      \u001b[0mprint\u001b[0m\u001b[1;33m(\u001b[0m\u001b[0mpara\u001b[0m\u001b[1;33m.\u001b[0m\u001b[0mtext\u001b[0m\u001b[1;33m)\u001b[0m\u001b[1;33m\u001b[0m\u001b[0m\n",
      "\u001b[1;31mImportError\u001b[0m: No module named 'docx'"
     ]
    }
   ],
   "source": [
    "import docx \n",
    "doc = docx.Document(\"C:/Users/mutabesham/Documents/GitHub/MacLearning/CVs\\75963 UK Cuno Duursma v8b combined.docx\")\n",
    "for para in doc.paragraphs:\n",
    "     print(para.text)"
   ]
  },
  {
   "cell_type": "code",
   "execution_count": 3,
   "metadata": {
    "collapsed": false
   },
   "outputs": [
    {
     "ename": "NameError",
     "evalue": "name 'wordapp' is not defined",
     "output_type": "error",
     "traceback": [
      "\u001b[1;31m---------------------------------------------------------------------------\u001b[0m",
      "\u001b[1;31mNameError\u001b[0m                                 Traceback (most recent call last)",
      "\u001b[1;32m<ipython-input-3-2307fc3e6324>\u001b[0m in \u001b[0;36m<module>\u001b[1;34m()\u001b[0m\n\u001b[1;32m----> 1\u001b[1;33m \u001b[0mhelp\u001b[0m\u001b[1;33m(\u001b[0m\u001b[0mwordapp\u001b[0m\u001b[1;33m.\u001b[0m\u001b[0mDocuments\u001b[0m\u001b[1;33m.\u001b[0m\u001b[0mOpen\u001b[0m\u001b[1;33m(\u001b[0m\u001b[1;33m)\u001b[0m\u001b[1;33m)\u001b[0m\u001b[1;33m\u001b[0m\u001b[0m\n\u001b[0m",
      "\u001b[1;31mNameError\u001b[0m: name 'wordapp' is not defined"
     ]
    }
   ],
   "source": [
    "help(wordapp.Documents.Open())"
   ]
  },
  {
   "cell_type": "code",
   "execution_count": 4,
   "metadata": {
    "collapsed": true
   },
   "outputs": [],
   "source": [
    "def get_filepaths(directory):\n",
    "    \"\"\"\n",
    "    This function will generate the file names in a directory \n",
    "    tree by walking the tree either top-down or bottom-up. For each \n",
    "    directory in the tree rooted at directory top (including top itself), \n",
    "    it yields a 3-tuple (dirpath, dirnames, filenames).\n",
    "    \"\"\"\n",
    "    file_paths = []  # List which will store all of the full filepaths.\n",
    "\n",
    "    # Walk the tree.\n",
    "    for root, directories, files in os.walk(directory):\n",
    "        for filename in files:\n",
    "            # Join the two strings in order to form the full filepath.\n",
    "            filepath = os.path.join(root, filename)\n",
    "            file_paths.append(filepath)  # Add it to the list.\n",
    "\n",
    "    return file_paths  # Self-explanatory.\n"
   ]
  },
  {
   "cell_type": "code",
   "execution_count": null,
   "metadata": {
    "collapsed": true
   },
   "outputs": [],
   "source": []
  }
 ],
 "metadata": {
  "kernelspec": {
   "display_name": "Python 3",
   "language": "python",
   "name": "python3"
  },
  "language_info": {
   "codemirror_mode": {
    "name": "ipython",
    "version": 3
   },
   "file_extension": ".py",
   "mimetype": "text/x-python",
   "name": "python",
   "nbconvert_exporter": "python",
   "pygments_lexer": "ipython3",
   "version": "3.5.1"
  }
 },
 "nbformat": 4,
 "nbformat_minor": 0
}
